{
 "cells": [
  {
   "cell_type": "code",
   "execution_count": 36,
   "id": "8d17ea1a",
   "metadata": {},
   "outputs": [],
   "source": [
    "from PIL import Image\n",
    "import cv2 \n",
    "import numpy as np\n",
    "from IPython.display import display"
   ]
  },
  {
   "cell_type": "code",
   "execution_count": 37,
   "id": "257d8960",
   "metadata": {},
   "outputs": [
    {
     "ename": "FileNotFoundError",
     "evalue": "[Errno 2] No such file or directory: '../res/laser_samples/'",
     "output_type": "error",
     "traceback": [
      "\u001b[0;31m---------------------------------------------------------------------------\u001b[0m",
      "\u001b[0;31mFileNotFoundError\u001b[0m                         Traceback (most recent call last)",
      "\u001b[0;32m<ipython-input-37-15672be3cae6>\u001b[0m in \u001b[0;36m<module>\u001b[0;34m\u001b[0m\n\u001b[1;32m      2\u001b[0m \u001b[0;34m\u001b[0m\u001b[0m\n\u001b[1;32m      3\u001b[0m \u001b[0mlaser_samples\u001b[0m \u001b[0;34m=\u001b[0m \u001b[0;34m[\u001b[0m\u001b[0;34m]\u001b[0m\u001b[0;34m\u001b[0m\u001b[0;34m\u001b[0m\u001b[0m\n\u001b[0;32m----> 4\u001b[0;31m \u001b[0mos\u001b[0m\u001b[0;34m.\u001b[0m\u001b[0mchdir\u001b[0m\u001b[0;34m(\u001b[0m\u001b[0;34m\"../res/laser_samples/\"\u001b[0m\u001b[0;34m)\u001b[0m\u001b[0;34m\u001b[0m\u001b[0;34m\u001b[0m\u001b[0m\n\u001b[0m\u001b[1;32m      5\u001b[0m \u001b[0;32mfor\u001b[0m \u001b[0mfile\u001b[0m \u001b[0;32min\u001b[0m \u001b[0mglob\u001b[0m\u001b[0;34m.\u001b[0m\u001b[0mglob\u001b[0m\u001b[0;34m(\u001b[0m\u001b[0;34m\"*\"\u001b[0m\u001b[0;34m)\u001b[0m\u001b[0;34m:\u001b[0m\u001b[0;34m\u001b[0m\u001b[0;34m\u001b[0m\u001b[0m\n\u001b[1;32m      6\u001b[0m     \u001b[0mlaser_samples\u001b[0m\u001b[0;34m.\u001b[0m\u001b[0mappend\u001b[0m\u001b[0;34m(\u001b[0m\u001b[0mfile\u001b[0m\u001b[0;34m)\u001b[0m\u001b[0;34m\u001b[0m\u001b[0;34m\u001b[0m\u001b[0m\n",
      "\u001b[0;31mFileNotFoundError\u001b[0m: [Errno 2] No such file or directory: '../res/laser_samples/'"
     ]
    }
   ],
   "source": [
    "import glob, os\n",
    "\n",
    "laser_samples = []\n",
    "os.chdir(\"../res/laser_samples/\")\n",
    "for file in glob.glob(\"*\"):\n",
    "    laser_samples.append(file)"
   ]
  },
  {
   "cell_type": "code",
   "execution_count": null,
   "id": "74a8cebe",
   "metadata": {},
   "outputs": [],
   "source": [
    "def disp_file(path):\n",
    "    # In OpenCV, images are in BGR\n",
    "    # In Pillow, images are in RGB \n",
    "    img = cv2.imread(path)\n",
    "    img = cv2.cvtColor(img, cv2.COLOR_BGR2RGB) # Converting BGR to RGB\n",
    "    display(Image.fromarray(img))\n",
    "\n",
    "\n",
    "# Display cv2 image\n",
    "def disp_img(cv_img):\n",
    "    cv_img = cv2.cvtColor(cv_img, cv2.COLOR_BGR2RGB) # Converting BGR to RGB\n",
    "    display(Image.fromarray(cv_img))\n"
   ]
  },
  {
   "cell_type": "code",
   "execution_count": null,
   "id": "15de0b26",
   "metadata": {},
   "outputs": [],
   "source": [
    "for file in laser_samples:\n",
    "    disp_file(path=file)"
   ]
  },
  {
   "cell_type": "markdown",
   "id": "fc744b8b",
   "metadata": {},
   "source": [
    "## Idea 1. HSV Isolation\n",
    "Manually tune the lower and upper bounds of HSV values to obtain laser line"
   ]
  },
  {
   "cell_type": "code",
   "execution_count": null,
   "id": "20fd981f",
   "metadata": {},
   "outputs": [],
   "source": [
    "import ipywidgets as widgets\n",
    "from ipywidgets import interact, HBox"
   ]
  },
  {
   "cell_type": "code",
   "execution_count": null,
   "id": "7677c585",
   "metadata": {
    "scrolled": true
   },
   "outputs": [],
   "source": [
    "@interact\n",
    "def hsv_isolation(lh=(0,255), ls=(0,255), lv=(0,255), uh=(0,255), us=(0,255), uv=(0,255)):\n",
    "    img = cv2.imread(laser_samples[1])\n",
    "\n",
    "    hsv = cv2.cvtColor(img, cv2.COLOR_BGR2HSV)\n",
    "    # define range of blue color in HSV\n",
    "    lower_colour = np.array([lh, ls, lv])\n",
    "    upper_colour = np.array([uh, us, uv])\n",
    "\n",
    "    # Threshold the HSV image to get only blue colors\n",
    "    mask = cv2.inRange(hsv, lower_colour, upper_colour)\n",
    "    # inv = cv2.bitwise_not(mask)\n",
    "\n",
    "    # Bitwise-AND mask and original image\n",
    "    res = cv2.bitwise_and(img,img, mask= mask)\n",
    "\n",
    "    res = cv2.cvtColor(res, cv2.COLOR_BGR2RGB)\n",
    "\n",
    "    display(Image.fromarray(res))\n"
   ]
  },
  {
   "cell_type": "code",
   "execution_count": null,
   "id": "cb0a143b",
   "metadata": {},
   "outputs": [],
   "source": [
    "@interact\n",
    "def hsv_isolation(lh=(0,255), ls=(0,255), lv=(0,255), uh=(0,255), us=(0,255), uv=(0,255)):\n",
    "    img = cv2.imread(laser_samples[0])\n",
    "\n",
    "    hsv = cv2.cvtColor(img, cv2.COLOR_BGR2HSV)\n",
    "    # define range of blue color in HSV\n",
    "    lower_colour = np.array([lh, ls, lv])\n",
    "    upper_colour = np.array([uh, us, uv])\n",
    "\n",
    "    # Threshold the HSV image to get only blue colors\n",
    "    mask = cv2.inRange(hsv, lower_colour, upper_colour)\n",
    "    # inv = cv2.bitwise_not(mask)\n",
    "\n",
    "    # Bitwise-AND mask and original image\n",
    "    res = cv2.bitwise_and(img,img, mask= mask)\n",
    "\n",
    "    res = cv2.cvtColor(res, cv2.COLOR_BGR2RGB)\n",
    "\n",
    "    display(Image.fromarray(res))"
   ]
  },
  {
   "cell_type": "markdown",
   "id": "63236438",
   "metadata": {},
   "source": [
    "## Idea 2. Hough Transform\n",
    "Used to extract lines"
   ]
  },
  {
   "cell_type": "code",
   "execution_count": null,
   "id": "4b5e8a29",
   "metadata": {},
   "outputs": [],
   "source": [
    "\n",
    "\n",
    "\n"
   ]
  },
  {
   "cell_type": "markdown",
   "metadata": {},
   "source": [
    "## Idea 3. Gradients"
   ]
  },
  {
   "cell_type": "markdown",
   "metadata": {},
   "source": []
  },
  {
   "cell_type": "markdown",
   "metadata": {},
   "source": [
    "## Idea 4. Dilation and Erosion"
   ]
  },
  {
   "cell_type": "markdown",
   "metadata": {},
   "source": []
  }
 ],
 "metadata": {
  "interpreter": {
   "hash": "8821b1d14ac53643d3b07bebe2b68dca09590ab98871b672961169cee72059e1"
  },
  "kernelspec": {
   "display_name": "Python 3",
   "language": "python",
   "name": "python3"
  },
  "language_info": {
   "codemirror_mode": {
    "name": "ipython",
    "version": 3
   },
   "file_extension": ".py",
   "mimetype": "text/x-python",
   "name": "python",
   "nbconvert_exporter": "python",
   "pygments_lexer": "ipython3",
   "version": "3.9.5"
  }
 },
 "nbformat": 4,
 "nbformat_minor": 5
}
